{
   "cell_type": "markdown",
   "id": "ec1bc4ec",
   "metadata": {},
   "source": [
    "### Calculate Mean, Median, Mode, Variance, Standard Deviation, Range & comment about the values / draw inferences, for the given dataset<br>\n",
    "For Points, Score, Weigh<br>\n",
    "Find Mean, Median, Mode, Variance, Standard Deviation, and Range and comment about the values/ Draw some inferences.\n"
   ]
  },
  {
   "cell_type": "code",
   "execution_count": 3,
   "id": "c77f5c34",
   "metadata": {},
   "outputs": [
    {
     "name": "stdout",
     "output_type": "stream",
     "text": [
      "Mean 3.5965625000000006\n",
      "Median 3.6950000000000003\n",
      "Mode 0    3.07\n",
      "1    3.92\n",
      "dtype: float64\n",
      "Variance 0.28588135080645166\n",
      "Standard Deviation 0.5346787360709716\n",
      "Skewness 0.29278021324083486\n",
      "Kurtosis -0.45043245112717223\n"
     ]
    }
   ],
   "source": [
    "import pandas as pd\n",
    "\n",
    "stats = pd.read_csv(r\"C:\\Users\\D\\Desktop\\New Assignments  Keys\\Datasets\\Q7.csv\")\n",
    "\n",
    "# Points\n",
    "print('Points')\n",
    "print('Mean',stats.Points.mean()) # 3.5965625000000006\n",
    "print('Median',stats.Points.median()) # 3.6950000000000003\n",
    "print('Mode',stats.Points.mode()) # 0    3.07\n",
    "                 # 1    3.92\n",
    "print('Variance',stats.Points.var()) # 0.28588135080645166\n",
    "print('Standard Deviation',stats.Points.std()) #  0.5346787360709716\n",
    "range =  max(stats.Points) - min(stats.Points) \n",
    "range # 2.17\n",
    "\n",
    "print('Skewness',stats.Points.skew()) # 0.29278021324083486 \n",
    "print('Kurtosis',stats.Points.kurt()) # -0.45043245112717223 (Platykurtic)"
   ]
  },
  {
   "cell_type": "code",
   "execution_count": 4,
   "id": "aa499b53",
   "metadata": {},
   "outputs": [
    {
     "name": "stdout",
     "output_type": "stream",
     "text": [
      "Mean 3.2172499999999995\n",
      "Median 3.325\n",
      "Mode 0    3.44\n",
      "dtype: float64\n",
      "Variance 0.9573789677419356\n",
      "Standard Deviation 0.9784574429896967\n",
      "Skewness 0.4659161067929858\n",
      "Kurtosis 0.416594669634927\n"
     ]
    }
   ],
   "source": [
    "#Score\n",
    "print('Score')\n",
    "print('Mean',stats.Score.mean()) # 3.2172499999999995\n",
    "print('Median',stats.Score.median()) # 3.325\n",
    "print('Mode',stats.Score.mode()) #  3.44\n",
    "print('Variance',stats.Score.var()) # 0.9573789677419354\n",
    "print('Standard Deviation',stats.Score.std()) # 0.9784574429896966\n",
    "\n",
    "range =  max(stats.Score) - min(stats.Score)\n",
    "range # 3.9109999999999996\n",
    "\n",
    "print('Skewness',stats.Score.skew()) # 0.4659161067929868\n",
    "print('Kurtosis',stats.Score.kurt()) # 0.41659466963492564 (Platykurtic)"
   ]
  },
  {
   "cell_type": "code",
   "execution_count": 5,
   "id": "6566f441",
   "metadata": {},
   "outputs": [
    {
     "name": "stdout",
     "output_type": "stream",
     "text": [
      "Mean 17.848750000000003\n",
      "Median 17.71\n",
      "Mode 0    17.02\n",
      "1    18.90\n",
      "dtype: float64\n",
      "Variance 3.193166129032258\n",
      "Standard Deviation 1.7869432360968431\n",
      "Skewness 0.4063466292404903\n",
      "Kurtosis 0.8649306528645293\n"
     ]
    }
   ],
   "source": [
    "# Weigh\n",
    "print('Weigh')\n",
    "print('Mean',stats.Weigh.mean()) # 17.848750000000003\n",
    "print('Median',stats.Weigh.median()) #  17.71\n",
    "print('Mode',stats.Weigh.mode()) # 0    17.02\n",
    "                # 1    18.90\n",
    "print('Variance',stats.Weigh.var()) # 3.193166129032258\n",
    "print('Standard Deviation',stats.Weigh.std()) #  1.7869432360968431\n",
    "\n",
    "range =  max(stats.Weigh) - min(stats.Weigh) \n",
    "range # 8.399999999999999\n",
    "\n",
    "print('Skewness',stats.Weigh.skew()) # 0.4063466292404903\n",
    "print('Kurtosis',stats.Weigh.kurt()) # 0.8649306528645293 (Platykurtic)"
   ]
  },
  {
   "cell_type": "code",
   "execution_count": 8,
   "id": "4d9d1780",
   "metadata": {},
   "outputs": [
    {
     "name": "stdout",
     "output_type": "stream",
     "text": [
      "Points\n"
     ]
    },
    {
     "data": {
      "image/png": "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\n",
      "text/plain": [
       "<Figure size 432x288 with 1 Axes>"
      ]
     },
     "metadata": {
      "needs_background": "light"
     },
     "output_type": "display_data"
    },
    {
     "data": {
      "image/png": "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\n",
      "text/plain": [
       "<Figure size 432x288 with 1 Axes>"
      ]
     },
     "metadata": {
      "needs_background": "light"
     },
     "output_type": "display_data"
    },
    {
     "name": "stdout",
     "output_type": "stream",
     "text": [
      "Score\n"
     ]
    },
    {
     "data": {
      "image/png": "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\n",
      "text/plain": [
       "<Figure size 432x288 with 1 Axes>"
      ]
     },
     "metadata": {
      "needs_background": "light"
     },
     "output_type": "display_data"
    },
    {
     "data": {
      "image/png": "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\n",
      "text/plain": [
       "<Figure size 432x288 with 1 Axes>"
      ]
     },
     "metadata": {
      "needs_background": "light"
     },
     "output_type": "display_data"
    },
    {
     "name": "stdout",
     "output_type": "stream",
     "text": [
      "Weigh\n"
     ]
    },
    {
     "data": {
      "image/png": "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\n",
      "text/plain": [
       "<Figure size 432x288 with 1 Axes>"
      ]
     },
     "metadata": {
      "needs_background": "light"
     },
     "output_type": "display_data"
    },
    {
     "data": {
      "image/png": "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\n",
      "text/plain": [
       "<Figure size 432x288 with 1 Axes>"
      ]
     },
     "metadata": {
      "needs_background": "light"
     },
     "output_type": "display_data"
    },
    {
     "data": {
      "text/html": [
       "<div>\n",
       "<style scoped>\n",
       "    .dataframe tbody tr th:only-of-type {\n",
       "        vertical-align: middle;\n",
       "    }\n",
       "\n",
       "    .dataframe tbody tr th {\n",
       "        vertical-align: top;\n",
       "    }\n",
       "\n",
       "    .dataframe thead th {\n",
       "        text-align: right;\n",
       "    }\n",
       "</style>\n",
       "<table border=\"1\" class=\"dataframe\">\n",
       "  <thead>\n",
       "    <tr style=\"text-align: right;\">\n",
       "      <th></th>\n",
       "      <th>Points</th>\n",
       "      <th>Score</th>\n",
       "      <th>Weigh</th>\n",
       "    </tr>\n",
       "  </thead>\n",
       "  <tbody>\n",
       "    <tr>\n",
       "      <th>count</th>\n",
       "      <td>32.000000</td>\n",
       "      <td>32.000000</td>\n",
       "      <td>32.000000</td>\n",
       "    </tr>\n",
       "    <tr>\n",
       "      <th>mean</th>\n",
       "      <td>3.596563</td>\n",
       "      <td>3.217250</td>\n",
       "      <td>17.848750</td>\n",
       "    </tr>\n",
       "    <tr>\n",
       "      <th>std</th>\n",
       "      <td>0.534679</td>\n",
       "      <td>0.978457</td>\n",
       "      <td>1.786943</td>\n",
       "    </tr>\n",
       "    <tr>\n",
       "      <th>min</th>\n",
       "      <td>2.760000</td>\n",
       "      <td>1.513000</td>\n",
       "      <td>14.500000</td>\n",
       "    </tr>\n",
       "    <tr>\n",
       "      <th>25%</th>\n",
       "      <td>3.080000</td>\n",
       "      <td>2.581250</td>\n",
       "      <td>16.892500</td>\n",
       "    </tr>\n",
       "    <tr>\n",
       "      <th>50%</th>\n",
       "      <td>3.695000</td>\n",
       "      <td>3.325000</td>\n",
       "      <td>17.710000</td>\n",
       "    </tr>\n",
       "    <tr>\n",
       "      <th>75%</th>\n",
       "      <td>3.920000</td>\n",
       "      <td>3.610000</td>\n",
       "      <td>18.900000</td>\n",
       "    </tr>\n",
       "    <tr>\n",
       "      <th>max</th>\n",
       "      <td>4.930000</td>\n",
       "      <td>5.424000</td>\n",
       "      <td>22.900000</td>\n",
       "    </tr>\n",
       "  </tbody>\n",
       "</table>\n",
       "</div>"
      ],
      "text/plain": [
       "          Points      Score      Weigh\n",
       "count  32.000000  32.000000  32.000000\n",
       "mean    3.596563   3.217250  17.848750\n",
       "std     0.534679   0.978457   1.786943\n",
       "min     2.760000   1.513000  14.500000\n",
       "25%     3.080000   2.581250  16.892500\n",
       "50%     3.695000   3.325000  17.710000\n",
       "75%     3.920000   3.610000  18.900000\n",
       "max     4.930000   5.424000  22.900000"
      ]
     },
     "execution_count": 8,
     "metadata": {},
     "output_type": "execute_result"
    }
   ],
   "source": [
    "import matplotlib.pyplot as plt\n",
    "import numpy as np\n",
    "\n",
    "# Points\n",
    "print('Points')\n",
    "plt.boxplot(stats.Points, vert=False);plt.show() # it is right skew & no outliers\n",
    "plt.hist(stats.Points);plt.show()\n",
    "\n",
    "# Score\n",
    "print('Score')\n",
    "plt.boxplot(stats.Score, vert=False);plt.show() # it is left skew & outliers is there\n",
    "plt.hist(stats.Score);plt.show()\n",
    "\n",
    "# Weigh\n",
    "print('Weigh')\n",
    "plt.boxplot(stats.Weigh, vert=False);plt.show() # it is left skew & outliers is there\n",
    "plt.hist(stats.Weigh);plt.show()\n",
    "\n",
    "stats.describe()"
   ]
  },
  {
   "cell_type": "markdown",
   "id": "9d183a0d",
   "metadata": {},
   "source": [
    "### Q6) Calculate Expected Value for the problem below"
   ]
  },
  {
   "cell_type": "markdown",
   "id": "bb1c03f0",
   "metadata": {},
   "source": [
    "a)\tThe weights (X) of patients at a clinic (in pounds), are<br>\n",
    "108, 110, 123, 134, 135, 145, 167, 187, 199<br>\n",
    "Assume one of the patients is chosen at random. What is the Expected Value of the Weight of that patient?<br>\n",
    "Ans:  EXPECTED VALUE = ∑ P(X).E(X)<br>\n",
    "          = ((1/9)*108) + ((1/9)*110) + ((1/9)*123) + ((1/9)*134) + ((1/9)*135) +        ((1/9)*145) + ((1/9)*167) + ((1/9)*187) + ((1/9)*199) <br>\n",
    "          = 145.33<br>\n",
    "HENCE, 145.33 kg IS THE EXPECTED VALUE OF THAT PATIENT."
   ]
  },
  {
   "cell_type": "markdown",
   "id": "af428281",
   "metadata": {},
   "source": [
    "### Q7)  Look at the data given below. Plot the data, find the outliers and find out  μ,σ,σ^2\n",
    "Hint: [Use a plot which shows the data distribution, skewness along with the outliers; also use R/Python code to evaluate measures of centrality and spread]"
   ]
  },
  {
   "cell_type": "code",
   "execution_count": 37,
   "id": "678f9779",
   "metadata": {},
   "outputs": [
    {
     "data": {
      "text/html": [
       "<div>\n",
       "<style scoped>\n",
       "    .dataframe tbody tr th:only-of-type {\n",
       "        vertical-align: middle;\n",
       "    }\n",
       "\n",
       "    .dataframe tbody tr th {\n",
       "        vertical-align: top;\n",
       "    }\n",
       "\n",
       "    .dataframe thead th {\n",
       "        text-align: right;\n",
       "    }\n",
       "</style>\n",
       "<table border=\"1\" class=\"dataframe\">\n",
       "  <thead>\n",
       "    <tr style=\"text-align: right;\">\n",
       "      <th></th>\n",
       "      <th>Name of company</th>\n",
       "      <th>Measure X</th>\n",
       "    </tr>\n",
       "  </thead>\n",
       "  <tbody>\n",
       "    <tr>\n",
       "      <th>0</th>\n",
       "      <td>Allied Signal</td>\n",
       "      <td>0.24</td>\n",
       "    </tr>\n",
       "    <tr>\n",
       "      <th>1</th>\n",
       "      <td>Bankers Trust</td>\n",
       "      <td>0.26</td>\n",
       "    </tr>\n",
       "    <tr>\n",
       "      <th>2</th>\n",
       "      <td>General Mills</td>\n",
       "      <td>0.25</td>\n",
       "    </tr>\n",
       "    <tr>\n",
       "      <th>3</th>\n",
       "      <td>ITT Industries</td>\n",
       "      <td>0.24</td>\n",
       "    </tr>\n",
       "    <tr>\n",
       "      <th>4</th>\n",
       "      <td>J.P.Morgan &amp; Co.</td>\n",
       "      <td>0.30</td>\n",
       "    </tr>\n",
       "    <tr>\n",
       "      <th>5</th>\n",
       "      <td>Lehman Brothers</td>\n",
       "      <td>0.28</td>\n",
       "    </tr>\n",
       "    <tr>\n",
       "      <th>6</th>\n",
       "      <td>Marriott</td>\n",
       "      <td>0.26</td>\n",
       "    </tr>\n",
       "    <tr>\n",
       "      <th>7</th>\n",
       "      <td>MCI</td>\n",
       "      <td>0.24</td>\n",
       "    </tr>\n",
       "    <tr>\n",
       "      <th>8</th>\n",
       "      <td>Merrill Lynch</td>\n",
       "      <td>0.40</td>\n",
       "    </tr>\n",
       "    <tr>\n",
       "      <th>9</th>\n",
       "      <td>Microsoft</td>\n",
       "      <td>0.33</td>\n",
       "    </tr>\n",
       "    <tr>\n",
       "      <th>10</th>\n",
       "      <td>Morgan Stanley</td>\n",
       "      <td>0.91</td>\n",
       "    </tr>\n",
       "    <tr>\n",
       "      <th>11</th>\n",
       "      <td>Sun Microsystems</td>\n",
       "      <td>0.26</td>\n",
       "    </tr>\n",
       "    <tr>\n",
       "      <th>12</th>\n",
       "      <td>Travelers</td>\n",
       "      <td>0.39</td>\n",
       "    </tr>\n",
       "    <tr>\n",
       "      <th>13</th>\n",
       "      <td>US Airways</td>\n",
       "      <td>0.27</td>\n",
       "    </tr>\n",
       "    <tr>\n",
       "      <th>14</th>\n",
       "      <td>Warner-Lambert</td>\n",
       "      <td>0.35</td>\n",
       "    </tr>\n",
       "  </tbody>\n",
       "</table>\n",
       "</div>"
      ],
      "text/plain": [
       "     Name of company  Measure X\n",
       "0      Allied Signal       0.24\n",
       "1      Bankers Trust       0.26\n",
       "2      General Mills       0.25\n",
       "3     ITT Industries       0.24\n",
       "4   J.P.Morgan & Co.       0.30\n",
       "5    Lehman Brothers       0.28\n",
       "6           Marriott       0.26\n",
       "7                MCI       0.24\n",
       "8      Merrill Lynch       0.40\n",
       "9          Microsoft       0.33\n",
       "10    Morgan Stanley       0.91\n",
       "11  Sun Microsystems       0.26\n",
       "12         Travelers       0.39\n",
       "13        US Airways       0.27\n",
       "14    Warner-Lambert       0.35"
      ]
     },
     "execution_count": 37,
     "metadata": {},
     "output_type": "execute_result"
    }
   ],
   "source": [
    "import pandas as pd\n",
    "import numpy as np\n",
    "#Load the data\n",
    "A = pd.read_csv(r\"C:\\Users\\D\\Desktop\\New Assignments  Keys\\Datasets\\A.csv\")\n",
    "A"
   ]
  },
  {
   "cell_type": "code",
   "execution_count": 40,
   "id": "92c4947e",
   "metadata": {},
   "outputs": [
    {
     "name": "stdout",
     "output_type": "stream",
     "text": [
      "Mean 0.332\n",
      "Median 0.27\n",
      "Mode 0    0.24\n",
      "1    0.26\n",
      "dtype: float64\n",
      "Variance 0.028402857142857153\n",
      "Standard Deviation 0.16853147226217766\n",
      "Skewness 3.2575505554296598\n",
      "Kurtosis 11.48838705262148\n"
     ]
    }
   ],
   "source": [
    "#Exploratory Data Analysis\n",
    "#Measures of Central Tendency / First moment business decision\n",
    "# Measure X\n",
    "\n",
    "print('Mean',A['Measure X'].mean()) #0.332\n",
    "print('Median',A['Measure X'].median()) #0.27\n",
    "#Bi Mode\n",
    "print('Mode',A['Measure X'].mode()) # 0    0.24 \n",
    "                      # 1    0.26\n",
    "## Measures of Dispersion / Second moment business decision\n",
    "\n",
    "print('Variance',A['Measure X'].var()) # 0.028402857142857153\n",
    "print('Standard Deviation',A['Measure X'].std()) # 0.16853147226217766\n",
    "\n",
    "range = max(A['Measure X']) - min(A['Measure X']) #range\n",
    "range #0.67\n",
    "\n",
    "# Third moment business decision\n",
    "print('Skewness',A['Measure X'].skew()) # 3.2575505554296598\n",
    "\n",
    "# Fourth moment business decision\n",
    "print('Kurtosis',A['Measure X'].kurt()) # 11.48838705262148 (Leptokurtic)"
   ]
  },
  {
   "cell_type": "code",
   "execution_count": 41,
   "id": "63403e69",
   "metadata": {},
   "outputs": [
    {
     "data": {
      "image/png": "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\n",
      "text/plain": [
       "<Figure size 432x288 with 1 Axes>"
      ]
     },
     "metadata": {
      "needs_background": "light"
     },
     "output_type": "display_data"
    },
    {
     "data": {
      "text/html": [
       "<div>\n",
       "<style scoped>\n",
       "    .dataframe tbody tr th:only-of-type {\n",
       "        vertical-align: middle;\n",
       "    }\n",
       "\n",
       "    .dataframe tbody tr th {\n",
       "        vertical-align: top;\n",
       "    }\n",
       "\n",
       "    .dataframe thead th {\n",
       "        text-align: right;\n",
       "    }\n",
       "</style>\n",
       "<table border=\"1\" class=\"dataframe\">\n",
       "  <thead>\n",
       "    <tr style=\"text-align: right;\">\n",
       "      <th></th>\n",
       "      <th>Measure X</th>\n",
       "    </tr>\n",
       "  </thead>\n",
       "  <tbody>\n",
       "    <tr>\n",
       "      <th>count</th>\n",
       "      <td>15.000000</td>\n",
       "    </tr>\n",
       "    <tr>\n",
       "      <th>mean</th>\n",
       "      <td>0.332000</td>\n",
       "    </tr>\n",
       "    <tr>\n",
       "      <th>std</th>\n",
       "      <td>0.168531</td>\n",
       "    </tr>\n",
       "    <tr>\n",
       "      <th>min</th>\n",
       "      <td>0.240000</td>\n",
       "    </tr>\n",
       "    <tr>\n",
       "      <th>25%</th>\n",
       "      <td>0.255000</td>\n",
       "    </tr>\n",
       "    <tr>\n",
       "      <th>50%</th>\n",
       "      <td>0.270000</td>\n",
       "    </tr>\n",
       "    <tr>\n",
       "      <th>75%</th>\n",
       "      <td>0.340000</td>\n",
       "    </tr>\n",
       "    <tr>\n",
       "      <th>max</th>\n",
       "      <td>0.910000</td>\n",
       "    </tr>\n",
       "  </tbody>\n",
       "</table>\n",
       "</div>"
      ],
      "text/plain": [
       "       Measure X\n",
       "count  15.000000\n",
       "mean    0.332000\n",
       "std     0.168531\n",
       "min     0.240000\n",
       "25%     0.255000\n",
       "50%     0.270000\n",
       "75%     0.340000\n",
       "max     0.910000"
      ]
     },
     "execution_count": 41,
     "metadata": {},
     "output_type": "execute_result"
    }
   ],
   "source": [
    "#Graphical Representation \n",
    "\n",
    "import matplotlib.pyplot as plt # mostly used for visualization purposes\n",
    "import numpy as np\n",
    "\n",
    "# Boxplot - Data Distribution\n",
    "plt.boxplot(A['Measure X'],vert=False);plt.show() #just enhancment(for understanding)\n",
    "\n",
    "# It's a right skew and has outlier\n",
    "A.describe() # it shows values of the data distribution"
   ]
  },
  {
   "cell_type": "markdown",
   "id": "feebb1b0",
   "metadata": {},
   "source": [
    "### Q8) AT&T was running commercials in 1990 aimed at luring back customers who had switched to one of the other long-distance phone service providers. One such commercial shows a businessman trying to reach Phoenix and mistakenly getting Fiji, where a half-naked native on a beach responds incomprehensibly in Polynesian. When asked about this advertisement, AT&T admitted that the portrayed incident did not actually take place but added that this was an enactment of something that “could happen.” Suppose that one in 200 long-distance telephone calls is misdirected. \n",
    "\n",
    "What is the probability that at least one in five attempted telephone calls reaches the wrong number? (Assume independence of attempts.)\n",
    "Hint: [Using Probability formula evaluate the probability of one call being wrong out of five attempted calls]"
   ]
  },
  {
   "cell_type": "markdown",
   "id": "44909413",
   "metadata": {},
   "source": [
    "**Ans:**\n",
    " Given :  one in 200 long-distance telephone calls is misdirected.  <br>\n",
    "To find : probability that at least one in five attempted telephone calls reaches the wrong number<br>\n",
    "Solution:<br>\n",
    "one in 200 long-distance telephone calls is misdirected<br>\n",
    "=>  probability of call misdirecting  p = 1/200<br>\n",
    "     Probability of call not Misdirecting = 1 - 1/200 = 199/200<br>\n",
    "Number of Calls = 5<br>\n",
    "P(x) = ⁿCₓpˣqⁿ⁻ˣ<br>\n",
    "n = 5<br>\n",
    "p = 1/200<br>\n",
    "q = 199/200<br>\n",
    "at least one in five attempted telephone calls reaches the wrong number<br>\n",
    "= 1  -  none of the call reaches the wrong number<br>\n",
    "= 1  - P(0)<br>\n",
    "= 1   -  ⁵C₀(1/200)⁰(199/200)⁵⁻⁰<br>\n",
    "= 1  -  (199/200)⁵<br>\n",
    "= 0.02475<br>\n",
    "probability that at least one in five attempted telephone calls reaches the wrong number = 0.02475<br>\n"
   ]
  }
 ],
 "metadata": {
  "kernelspec": {
   "display_name": "Python 3 (ipykernel)",
   "language": "python",
   "name": "python3"
  },
  "language_info": {
   "codemirror_mode": {
    "name": "ipython",
    "version": 3
   },
   "file_extension": ".py",
   "mimetype": "text/x-python",
   "name": "python",
   "nbconvert_exporter": "python",
   "pygments_lexer": "ipython3",
   "version": "3.9.7"
  }
 },
 "nbformat": 4,
 "nbformat_minor": 5
}
